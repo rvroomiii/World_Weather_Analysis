{
 "cells": [
  {
   "cell_type": "code",
   "execution_count": 10,
   "id": "fecd24f3",
   "metadata": {},
   "outputs": [],
   "source": [
    "# Import the random module.\n",
    "import random"
   ]
  },
  {
   "cell_type": "code",
   "execution_count": 11,
   "id": "34d97e67",
   "metadata": {},
   "outputs": [
    {
     "data": {
      "text/plain": [
       "20"
      ]
     },
     "execution_count": 11,
     "metadata": {},
     "output_type": "execute_result"
    }
   ],
   "source": [
    "random.randint(-90, 90)"
   ]
  },
  {
   "cell_type": "code",
   "execution_count": 12,
   "id": "508b9959",
   "metadata": {},
   "outputs": [
    {
     "data": {
      "text/plain": [
       "0.6799348502901503"
      ]
     },
     "execution_count": 12,
     "metadata": {},
     "output_type": "execute_result"
    }
   ],
   "source": [
    "random.random()"
   ]
  },
  {
   "cell_type": "code",
   "execution_count": 13,
   "id": "40397a32",
   "metadata": {},
   "outputs": [
    {
     "data": {
      "text/plain": [
       "-54.411308598408745"
      ]
     },
     "execution_count": 13,
     "metadata": {},
     "output_type": "execute_result"
    }
   ],
   "source": [
    "random_number = random.randint(-90,80) + random.random()\n",
    "random_number"
   ]
  },
  {
   "cell_type": "code",
   "execution_count": 15,
   "id": "3426977d",
   "metadata": {},
   "outputs": [
    {
     "data": {
      "text/plain": [
       "[-61.32967006291772,\n",
       " 58.42888508663819,\n",
       " 12.592613630450703,\n",
       " 72.44486592144825,\n",
       " 37.17647829396271,\n",
       " 25.688396180084112,\n",
       " 51.43798733605983,\n",
       " 43.70885964345034,\n",
       " 87.55584089938527,\n",
       " 23.051095793855136]"
      ]
     },
     "execution_count": 15,
     "metadata": {},
     "output_type": "execute_result"
    }
   ],
   "source": [
    "x = 1\n",
    "latitudes = []\n",
    "while x < 11:\n",
    "    random_lat = random.randint(-90, 89) + random.random()\n",
    "    latitudes.append(random_lat)\n",
    "    x += 1\n",
    "    \n",
    "latitudes"
   ]
  },
  {
   "cell_type": "code",
   "execution_count": 17,
   "id": "1f1cb0dc",
   "metadata": {},
   "outputs": [
    {
     "data": {
      "text/plain": [
       "-3"
      ]
     },
     "execution_count": 17,
     "metadata": {},
     "output_type": "execute_result"
    }
   ],
   "source": [
    "random.randrange(-90,90,step=3)"
   ]
  },
  {
   "cell_type": "code",
   "execution_count": 18,
   "id": "61abb405",
   "metadata": {},
   "outputs": [
    {
     "data": {
      "text/plain": [
       "40.01688788202205"
      ]
     },
     "execution_count": 18,
     "metadata": {},
     "output_type": "execute_result"
    }
   ],
   "source": [
    "random.uniform(-90,90)"
   ]
  },
  {
   "cell_type": "code",
   "execution_count": 19,
   "id": "ce7312f0",
   "metadata": {},
   "outputs": [],
   "source": [
    "# Import the NumPy module.\n",
    "import numpy as np"
   ]
  },
  {
   "cell_type": "code",
   "execution_count": 20,
   "id": "e16ff0bb",
   "metadata": {},
   "outputs": [
    {
     "data": {
      "text/plain": [
       "4.576115758155424"
      ]
     },
     "execution_count": 20,
     "metadata": {},
     "output_type": "execute_result"
    }
   ],
   "source": [
    "np.random.uniform(-90.000, 90.000)"
   ]
  },
  {
   "cell_type": "code",
   "execution_count": 21,
   "id": "06e13fb3",
   "metadata": {},
   "outputs": [
    {
     "data": {
      "text/plain": [
       "array([-82.33438911,  -2.08446741, -21.70337853,  58.21254547,\n",
       "        10.34961806,   3.14776168,  26.88624911,  58.76468521,\n",
       "       -63.35818978,  15.98554303,  81.15159138,   7.58346088,\n",
       "        70.93448018, -79.60330646,  45.2106061 , -66.44729536,\n",
       "       -24.89878946, -14.17962616,   6.40401002, -82.61268505,\n",
       "       -33.38929084, -77.49853442, -19.34073245,   6.8071904 ,\n",
       "       -71.09233291,  48.70330285, -42.73467627, -36.95755092,\n",
       "        26.53627806, -81.81699999, -81.99444513,  77.88917138,\n",
       "        66.38108807, -18.72060559, -35.20558905,  -0.93397402,\n",
       "       -62.67786967,  16.70279784,  83.06326346, -72.74831676,\n",
       "        70.9057587 ,  87.17956491, -68.18758833, -18.5940384 ,\n",
       "       -27.85830518,  73.09614915,  30.45714226, -53.09882237,\n",
       "        11.95941459,  87.28336128])"
      ]
     },
     "execution_count": 21,
     "metadata": {},
     "output_type": "execute_result"
    }
   ],
   "source": [
    "np.random.uniform(-90.000, 90.000, size=50)"
   ]
  },
  {
   "cell_type": "code",
   "execution_count": 22,
   "id": "b500655f",
   "metadata": {},
   "outputs": [],
   "source": [
    "# Import timeit.\n",
    "import timeit"
   ]
  },
  {
   "cell_type": "code",
   "execution_count": 23,
   "id": "1921d0f6",
   "metadata": {},
   "outputs": [
    {
     "name": "stdout",
     "output_type": "stream",
     "text": [
      "13.3 µs ± 216 ns per loop (mean ± std. dev. of 7 runs, 100,000 loops each)\n"
     ]
    }
   ],
   "source": [
    "%timeit np.random.uniform(-90.000, 90.000, size=1500)"
   ]
  },
  {
   "cell_type": "code",
   "execution_count": 24,
   "id": "d3fc3c34",
   "metadata": {},
   "outputs": [
    {
     "name": "stdout",
     "output_type": "stream",
     "text": [
      "1.37 ms ± 14.6 µs per loop (mean ± std. dev. of 7 runs, 1,000 loops each)\n"
     ]
    }
   ],
   "source": [
    "def latitudes(size):\n",
    "    latitudes = []\n",
    "    x = 0\n",
    "    while x < (size):\n",
    "        random_lat = random.randint(-90, 90) + random.random()\n",
    "        latitudes.append(random_lat)\n",
    "        x += 1\n",
    "    return latitudes\n",
    "# Call the function with 1500.\n",
    "%timeit latitudes(1500)"
   ]
  },
  {
   "cell_type": "code",
   "execution_count": null,
   "id": "a7a141ff",
   "metadata": {},
   "outputs": [],
   "source": []
  }
 ],
 "metadata": {
  "kernelspec": {
   "display_name": "PythonData",
   "language": "python",
   "name": "pythondata"
  },
  "language_info": {
   "codemirror_mode": {
    "name": "ipython",
    "version": 3
   },
   "file_extension": ".py",
   "mimetype": "text/x-python",
   "name": "python",
   "nbconvert_exporter": "python",
   "pygments_lexer": "ipython3",
   "version": "3.9.12"
  }
 },
 "nbformat": 4,
 "nbformat_minor": 5
}
